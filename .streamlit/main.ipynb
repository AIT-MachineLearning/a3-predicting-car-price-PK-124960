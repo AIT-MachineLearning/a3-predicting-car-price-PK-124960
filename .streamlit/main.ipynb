{
 "cells": [
  {
   "cell_type": "code",
   "execution_count": 14,
   "metadata": {},
   "outputs": [],
   "source": [
    "import numpy as np\n",
    "import pandas as pd\n",
    "import seaborn as sns\n",
    "import matplotlib.pyplot as plt\n",
    "import matplotlib\n",
    "import warnings \n",
    "warnings.filterwarnings('ignore')"
   ]
  },
  {
   "cell_type": "code",
   "execution_count": 15,
   "metadata": {},
   "outputs": [
    {
     "data": {
      "text/plain": [
       "1    5289\n",
       "2    2105\n",
       "3     555\n",
       "4     174\n",
       "5       5\n",
       "Name: owner, dtype: int64"
      ]
     },
     "execution_count": 15,
     "metadata": {},
     "output_type": "execute_result"
    }
   ],
   "source": [
    "#dataframe\n",
    "df = pd.read_csv(\"D:/AT82.03_ML/A1_Predicting_Car_Price/a2-predicting-car-prices-PK-124960/.streamlit/Cars.csv\") \n",
    "\n",
    "# Create a mapping from original categories to new integer values\n",
    "label_mapping = {'First Owner': 1, 'Second Owner': 2, 'Third Owner': 3, 'Fourth & Above Owner': 4, 'Test Drive Car': 5}\n",
    "\n",
    "# Apply the new mapping to the 'owner' column\n",
    "df['owner'] = df['owner'].map(label_mapping)\n",
    "\n",
    "# To check the all columns in the feature 'owner'\n",
    "df.owner.value_counts()"
   ]
  },
  {
   "cell_type": "code",
   "execution_count": 16,
   "metadata": {},
   "outputs": [
    {
     "data": {
      "text/plain": [
       "Diesel    4402\n",
       "Petrol    3631\n",
       "Name: fuel, dtype: int64"
      ]
     },
     "execution_count": 16,
     "metadata": {},
     "output_type": "execute_result"
    }
   ],
   "source": [
    "# To check the all columns in the feature 'fuel'\n",
    "df.fuel.value_counts()\n",
    "# Create a mask to identify rows with 'CNG' or 'LPG'\n",
    "mask = (df['fuel'] != 'CNG') & (df['fuel'] != 'LPG')\n",
    "\n",
    "# Filter the DataFrame using the mask\n",
    "df = df[mask]\n",
    "\n",
    "df.fuel.value_counts()"
   ]
  },
  {
   "cell_type": "code",
   "execution_count": 17,
   "metadata": {},
   "outputs": [
    {
     "data": {
      "text/plain": [
       "0        23.4\n",
       "1       21.14\n",
       "2        17.7\n",
       "3        23.0\n",
       "4        16.1\n",
       "        ...  \n",
       "8123     18.5\n",
       "8124     16.8\n",
       "8125     19.3\n",
       "8126    23.57\n",
       "8127    23.57\n",
       "Name: mileage, Length: 8033, dtype: object"
      ]
     },
     "execution_count": 17,
     "metadata": {},
     "output_type": "execute_result"
    }
   ],
   "source": [
    "# to split the data into the mileage column and choose only the first\n",
    "df['mileage'] = df['mileage'].str.split().str[0]\n",
    "df.mileage"
   ]
  },
  {
   "cell_type": "code",
   "execution_count": 18,
   "metadata": {},
   "outputs": [
    {
     "data": {
      "text/plain": [
       "0       23.40\n",
       "1       21.14\n",
       "2       17.70\n",
       "3       23.00\n",
       "4       16.10\n",
       "        ...  \n",
       "8123    18.50\n",
       "8124    16.80\n",
       "8125    19.30\n",
       "8126    23.57\n",
       "8127    23.57\n",
       "Name: mileage, Length: 8033, dtype: float64"
      ]
     },
     "execution_count": 18,
     "metadata": {},
     "output_type": "execute_result"
    }
   ],
   "source": [
    "# converting the column \"df.mileage\" as object type to numerical type as float\n",
    "df['mileage'] = df['mileage'].astype(float)\n",
    "df.mileage"
   ]
  },
  {
   "cell_type": "code",
   "execution_count": 19,
   "metadata": {},
   "outputs": [
    {
     "data": {
      "text/plain": [
       "1248 CC    1017\n",
       "1197 CC     832\n",
       "796 CC      432\n",
       "998 CC      424\n",
       "2179 CC     389\n",
       "           ... \n",
       "2835 CC       1\n",
       "1489 CC       1\n",
       "1422 CC       1\n",
       "2496 CC       1\n",
       "1950 CC       1\n",
       "Name: engine, Length: 121, dtype: int64"
      ]
     },
     "execution_count": 19,
     "metadata": {},
     "output_type": "execute_result"
    }
   ],
   "source": [
    "# To check the all columns in the feature 'engine'\n",
    "df.engine.value_counts()"
   ]
  },
  {
   "cell_type": "code",
   "execution_count": 20,
   "metadata": {},
   "outputs": [
    {
     "data": {
      "text/plain": [
       "0       1248.0\n",
       "1       1498.0\n",
       "2       1497.0\n",
       "3       1396.0\n",
       "4       1298.0\n",
       "         ...  \n",
       "8123    1197.0\n",
       "8124    1493.0\n",
       "8125    1248.0\n",
       "8126    1396.0\n",
       "8127    1396.0\n",
       "Name: engine, Length: 8033, dtype: float64"
      ]
     },
     "execution_count": 20,
     "metadata": {},
     "output_type": "execute_result"
    }
   ],
   "source": [
    "# to split the data into the engine column and choose only the first as object type\n",
    "# converting the column \"engine\" to numerical type as float\n",
    "df['engine'] = df['engine'].str.split().str[0]\n",
    "df['engine'] = df['engine'].astype(float)\n",
    "df.engine"
   ]
  },
  {
   "cell_type": "code",
   "execution_count": 21,
   "metadata": {},
   "outputs": [
    {
     "data": {
      "text/plain": [
       "74 bhp       377\n",
       "81.80 bhp    220\n",
       "88.5 bhp     204\n",
       "67 bhp       165\n",
       "46.3 bhp     162\n",
       "            ... \n",
       "175 bhp        1\n",
       "400 bhp        1\n",
       "80.84 bhp      1\n",
       "68.4 bhp       1\n",
       "135.1 bhp      1\n",
       "Name: max_power, Length: 309, dtype: int64"
      ]
     },
     "execution_count": 21,
     "metadata": {},
     "output_type": "execute_result"
    }
   ],
   "source": [
    "df.max_power.value_counts()"
   ]
  },
  {
   "cell_type": "code",
   "execution_count": 22,
   "metadata": {},
   "outputs": [
    {
     "data": {
      "text/plain": [
       "0       1248.0\n",
       "1       1498.0\n",
       "2       1497.0\n",
       "3       1396.0\n",
       "4       1298.0\n",
       "         ...  \n",
       "8123    1197.0\n",
       "8124    1493.0\n",
       "8125    1248.0\n",
       "8126    1396.0\n",
       "8127    1396.0\n",
       "Name: engine, Length: 8033, dtype: float64"
      ]
     },
     "execution_count": 22,
     "metadata": {},
     "output_type": "execute_result"
    }
   ],
   "source": [
    "# Do tha same for Max power\n",
    "# to split the data into the max_power column and choose only the first as object type\n",
    "# converting the column \"max_power\" to numerical type as float\n",
    "df['max_power'] = df['max_power'].str.split().str[0]\n",
    "df['max_power'] = df['max_power'].astype(float)\n",
    "df.engine"
   ]
  },
  {
   "cell_type": "code",
   "execution_count": 23,
   "metadata": {},
   "outputs": [
    {
     "data": {
      "text/plain": [
       "0        Maruti\n",
       "1         Skoda\n",
       "2         Honda\n",
       "3       Hyundai\n",
       "4        Maruti\n",
       "         ...   \n",
       "8123    Hyundai\n",
       "8124    Hyundai\n",
       "8125     Maruti\n",
       "8126       Tata\n",
       "8127       Tata\n",
       "Name: name, Length: 8033, dtype: object"
      ]
     },
     "execution_count": 23,
     "metadata": {},
     "output_type": "execute_result"
    }
   ],
   "source": [
    "# split the column of name to take only the first word and remove the rest\n",
    "df['name'] = df['name'].str.split().str[0]\n",
    "df.name"
   ]
  },
  {
   "cell_type": "code",
   "execution_count": 24,
   "metadata": {},
   "outputs": [
    {
     "data": {
      "text/html": [
       "<div>\n",
       "<style scoped>\n",
       "    .dataframe tbody tr th:only-of-type {\n",
       "        vertical-align: middle;\n",
       "    }\n",
       "\n",
       "    .dataframe tbody tr th {\n",
       "        vertical-align: top;\n",
       "    }\n",
       "\n",
       "    .dataframe thead th {\n",
       "        text-align: right;\n",
       "    }\n",
       "</style>\n",
       "<table border=\"1\" class=\"dataframe\">\n",
       "  <thead>\n",
       "    <tr style=\"text-align: right;\">\n",
       "      <th></th>\n",
       "      <th>name</th>\n",
       "      <th>year</th>\n",
       "      <th>selling_price</th>\n",
       "      <th>km_driven</th>\n",
       "      <th>fuel</th>\n",
       "      <th>seller_type</th>\n",
       "      <th>transmission</th>\n",
       "      <th>owner</th>\n",
       "      <th>mileage</th>\n",
       "      <th>engine</th>\n",
       "      <th>max_power</th>\n",
       "      <th>seats</th>\n",
       "    </tr>\n",
       "  </thead>\n",
       "  <tbody>\n",
       "    <tr>\n",
       "      <th>0</th>\n",
       "      <td>Maruti</td>\n",
       "      <td>2014</td>\n",
       "      <td>450000</td>\n",
       "      <td>145500</td>\n",
       "      <td>Diesel</td>\n",
       "      <td>Individual</td>\n",
       "      <td>Manual</td>\n",
       "      <td>1</td>\n",
       "      <td>23.40</td>\n",
       "      <td>1248.0</td>\n",
       "      <td>74.00</td>\n",
       "      <td>5.0</td>\n",
       "    </tr>\n",
       "    <tr>\n",
       "      <th>1</th>\n",
       "      <td>Skoda</td>\n",
       "      <td>2014</td>\n",
       "      <td>370000</td>\n",
       "      <td>120000</td>\n",
       "      <td>Diesel</td>\n",
       "      <td>Individual</td>\n",
       "      <td>Manual</td>\n",
       "      <td>2</td>\n",
       "      <td>21.14</td>\n",
       "      <td>1498.0</td>\n",
       "      <td>103.52</td>\n",
       "      <td>5.0</td>\n",
       "    </tr>\n",
       "    <tr>\n",
       "      <th>2</th>\n",
       "      <td>Honda</td>\n",
       "      <td>2006</td>\n",
       "      <td>158000</td>\n",
       "      <td>140000</td>\n",
       "      <td>Petrol</td>\n",
       "      <td>Individual</td>\n",
       "      <td>Manual</td>\n",
       "      <td>3</td>\n",
       "      <td>17.70</td>\n",
       "      <td>1497.0</td>\n",
       "      <td>78.00</td>\n",
       "      <td>5.0</td>\n",
       "    </tr>\n",
       "    <tr>\n",
       "      <th>3</th>\n",
       "      <td>Hyundai</td>\n",
       "      <td>2010</td>\n",
       "      <td>225000</td>\n",
       "      <td>127000</td>\n",
       "      <td>Diesel</td>\n",
       "      <td>Individual</td>\n",
       "      <td>Manual</td>\n",
       "      <td>1</td>\n",
       "      <td>23.00</td>\n",
       "      <td>1396.0</td>\n",
       "      <td>90.00</td>\n",
       "      <td>5.0</td>\n",
       "    </tr>\n",
       "    <tr>\n",
       "      <th>4</th>\n",
       "      <td>Maruti</td>\n",
       "      <td>2007</td>\n",
       "      <td>130000</td>\n",
       "      <td>120000</td>\n",
       "      <td>Petrol</td>\n",
       "      <td>Individual</td>\n",
       "      <td>Manual</td>\n",
       "      <td>1</td>\n",
       "      <td>16.10</td>\n",
       "      <td>1298.0</td>\n",
       "      <td>88.20</td>\n",
       "      <td>5.0</td>\n",
       "    </tr>\n",
       "    <tr>\n",
       "      <th>...</th>\n",
       "      <td>...</td>\n",
       "      <td>...</td>\n",
       "      <td>...</td>\n",
       "      <td>...</td>\n",
       "      <td>...</td>\n",
       "      <td>...</td>\n",
       "      <td>...</td>\n",
       "      <td>...</td>\n",
       "      <td>...</td>\n",
       "      <td>...</td>\n",
       "      <td>...</td>\n",
       "      <td>...</td>\n",
       "    </tr>\n",
       "    <tr>\n",
       "      <th>8123</th>\n",
       "      <td>Hyundai</td>\n",
       "      <td>2013</td>\n",
       "      <td>320000</td>\n",
       "      <td>110000</td>\n",
       "      <td>Petrol</td>\n",
       "      <td>Individual</td>\n",
       "      <td>Manual</td>\n",
       "      <td>1</td>\n",
       "      <td>18.50</td>\n",
       "      <td>1197.0</td>\n",
       "      <td>82.85</td>\n",
       "      <td>5.0</td>\n",
       "    </tr>\n",
       "    <tr>\n",
       "      <th>8124</th>\n",
       "      <td>Hyundai</td>\n",
       "      <td>2007</td>\n",
       "      <td>135000</td>\n",
       "      <td>119000</td>\n",
       "      <td>Diesel</td>\n",
       "      <td>Individual</td>\n",
       "      <td>Manual</td>\n",
       "      <td>4</td>\n",
       "      <td>16.80</td>\n",
       "      <td>1493.0</td>\n",
       "      <td>110.00</td>\n",
       "      <td>5.0</td>\n",
       "    </tr>\n",
       "    <tr>\n",
       "      <th>8125</th>\n",
       "      <td>Maruti</td>\n",
       "      <td>2009</td>\n",
       "      <td>382000</td>\n",
       "      <td>120000</td>\n",
       "      <td>Diesel</td>\n",
       "      <td>Individual</td>\n",
       "      <td>Manual</td>\n",
       "      <td>1</td>\n",
       "      <td>19.30</td>\n",
       "      <td>1248.0</td>\n",
       "      <td>73.90</td>\n",
       "      <td>5.0</td>\n",
       "    </tr>\n",
       "    <tr>\n",
       "      <th>8126</th>\n",
       "      <td>Tata</td>\n",
       "      <td>2013</td>\n",
       "      <td>290000</td>\n",
       "      <td>25000</td>\n",
       "      <td>Diesel</td>\n",
       "      <td>Individual</td>\n",
       "      <td>Manual</td>\n",
       "      <td>1</td>\n",
       "      <td>23.57</td>\n",
       "      <td>1396.0</td>\n",
       "      <td>70.00</td>\n",
       "      <td>5.0</td>\n",
       "    </tr>\n",
       "    <tr>\n",
       "      <th>8127</th>\n",
       "      <td>Tata</td>\n",
       "      <td>2013</td>\n",
       "      <td>290000</td>\n",
       "      <td>25000</td>\n",
       "      <td>Diesel</td>\n",
       "      <td>Individual</td>\n",
       "      <td>Manual</td>\n",
       "      <td>1</td>\n",
       "      <td>23.57</td>\n",
       "      <td>1396.0</td>\n",
       "      <td>70.00</td>\n",
       "      <td>5.0</td>\n",
       "    </tr>\n",
       "  </tbody>\n",
       "</table>\n",
       "<p>8033 rows × 12 columns</p>\n",
       "</div>"
      ],
      "text/plain": [
       "         name  year  selling_price  km_driven    fuel seller_type  \\\n",
       "0      Maruti  2014         450000     145500  Diesel  Individual   \n",
       "1       Skoda  2014         370000     120000  Diesel  Individual   \n",
       "2       Honda  2006         158000     140000  Petrol  Individual   \n",
       "3     Hyundai  2010         225000     127000  Diesel  Individual   \n",
       "4      Maruti  2007         130000     120000  Petrol  Individual   \n",
       "...       ...   ...            ...        ...     ...         ...   \n",
       "8123  Hyundai  2013         320000     110000  Petrol  Individual   \n",
       "8124  Hyundai  2007         135000     119000  Diesel  Individual   \n",
       "8125   Maruti  2009         382000     120000  Diesel  Individual   \n",
       "8126     Tata  2013         290000      25000  Diesel  Individual   \n",
       "8127     Tata  2013         290000      25000  Diesel  Individual   \n",
       "\n",
       "     transmission  owner  mileage  engine  max_power  seats  \n",
       "0          Manual      1    23.40  1248.0      74.00    5.0  \n",
       "1          Manual      2    21.14  1498.0     103.52    5.0  \n",
       "2          Manual      3    17.70  1497.0      78.00    5.0  \n",
       "3          Manual      1    23.00  1396.0      90.00    5.0  \n",
       "4          Manual      1    16.10  1298.0      88.20    5.0  \n",
       "...           ...    ...      ...     ...        ...    ...  \n",
       "8123       Manual      1    18.50  1197.0      82.85    5.0  \n",
       "8124       Manual      4    16.80  1493.0     110.00    5.0  \n",
       "8125       Manual      1    19.30  1248.0      73.90    5.0  \n",
       "8126       Manual      1    23.57  1396.0      70.00    5.0  \n",
       "8127       Manual      1    23.57  1396.0      70.00    5.0  \n",
       "\n",
       "[8033 rows x 12 columns]"
      ]
     },
     "execution_count": 24,
     "metadata": {},
     "output_type": "execute_result"
    }
   ],
   "source": [
    "# to remove the feature torque\n",
    "df.drop('torque', axis=1, inplace=True)\n",
    "df"
   ]
  },
  {
   "cell_type": "code",
   "execution_count": 25,
   "metadata": {},
   "outputs": [
    {
     "data": {
      "text/plain": [
       "1    5238\n",
       "2    2073\n",
       "3     547\n",
       "4     170\n",
       "5       5\n",
       "Name: owner, dtype: int64"
      ]
     },
     "execution_count": 25,
     "metadata": {},
     "output_type": "execute_result"
    }
   ],
   "source": [
    "df.owner.value_counts()\n",
    "# 1 means 'First Owner',\n",
    "# 2 means 'Second Owner',\n",
    "# 3 means 'Third Owner',\n",
    "# 4 means 'Fourth & Above Owner',\n",
    "# 5 means 'Test Drive Car'"
   ]
  },
  {
   "cell_type": "code",
   "execution_count": 26,
   "metadata": {},
   "outputs": [
    {
     "data": {
      "text/plain": [
       "1    5238\n",
       "2    2073\n",
       "3     547\n",
       "4     170\n",
       "Name: owner, dtype: int64"
      ]
     },
     "execution_count": 26,
     "metadata": {},
     "output_type": "execute_result"
    }
   ],
   "source": [
    "# Create a mask to identify row 5 as 'Test Drive Car\n",
    "mask = df['owner'] != 5\n",
    "\n",
    "# Filter the DataFrame using the mask\n",
    "df = df[mask]\n",
    "\n",
    "df.owner.value_counts()"
   ]
  },
  {
   "cell_type": "code",
   "execution_count": 27,
   "metadata": {},
   "outputs": [
    {
     "data": {
      "text/html": [
       "<div>\n",
       "<style scoped>\n",
       "    .dataframe tbody tr th:only-of-type {\n",
       "        vertical-align: middle;\n",
       "    }\n",
       "\n",
       "    .dataframe tbody tr th {\n",
       "        vertical-align: top;\n",
       "    }\n",
       "\n",
       "    .dataframe thead th {\n",
       "        text-align: right;\n",
       "    }\n",
       "</style>\n",
       "<table border=\"1\" class=\"dataframe\">\n",
       "  <thead>\n",
       "    <tr style=\"text-align: right;\">\n",
       "      <th></th>\n",
       "      <th>name</th>\n",
       "      <th>year</th>\n",
       "      <th>selling_price</th>\n",
       "      <th>km_driven</th>\n",
       "      <th>fuel</th>\n",
       "      <th>seller_type</th>\n",
       "      <th>transmission</th>\n",
       "      <th>owner</th>\n",
       "      <th>mileage</th>\n",
       "      <th>engine</th>\n",
       "      <th>max_power</th>\n",
       "      <th>seats</th>\n",
       "    </tr>\n",
       "  </thead>\n",
       "  <tbody>\n",
       "    <tr>\n",
       "      <th>0</th>\n",
       "      <td>Maruti</td>\n",
       "      <td>2014</td>\n",
       "      <td>450000</td>\n",
       "      <td>145500</td>\n",
       "      <td>Diesel</td>\n",
       "      <td>Individual</td>\n",
       "      <td>Manual</td>\n",
       "      <td>1</td>\n",
       "      <td>23.40</td>\n",
       "      <td>1248.0</td>\n",
       "      <td>74.00</td>\n",
       "      <td>5.0</td>\n",
       "    </tr>\n",
       "    <tr>\n",
       "      <th>1</th>\n",
       "      <td>Skoda</td>\n",
       "      <td>2014</td>\n",
       "      <td>370000</td>\n",
       "      <td>120000</td>\n",
       "      <td>Diesel</td>\n",
       "      <td>Individual</td>\n",
       "      <td>Manual</td>\n",
       "      <td>2</td>\n",
       "      <td>21.14</td>\n",
       "      <td>1498.0</td>\n",
       "      <td>103.52</td>\n",
       "      <td>5.0</td>\n",
       "    </tr>\n",
       "    <tr>\n",
       "      <th>2</th>\n",
       "      <td>Honda</td>\n",
       "      <td>2006</td>\n",
       "      <td>158000</td>\n",
       "      <td>140000</td>\n",
       "      <td>Petrol</td>\n",
       "      <td>Individual</td>\n",
       "      <td>Manual</td>\n",
       "      <td>3</td>\n",
       "      <td>17.70</td>\n",
       "      <td>1497.0</td>\n",
       "      <td>78.00</td>\n",
       "      <td>5.0</td>\n",
       "    </tr>\n",
       "    <tr>\n",
       "      <th>3</th>\n",
       "      <td>Hyundai</td>\n",
       "      <td>2010</td>\n",
       "      <td>225000</td>\n",
       "      <td>127000</td>\n",
       "      <td>Diesel</td>\n",
       "      <td>Individual</td>\n",
       "      <td>Manual</td>\n",
       "      <td>1</td>\n",
       "      <td>23.00</td>\n",
       "      <td>1396.0</td>\n",
       "      <td>90.00</td>\n",
       "      <td>5.0</td>\n",
       "    </tr>\n",
       "    <tr>\n",
       "      <th>4</th>\n",
       "      <td>Maruti</td>\n",
       "      <td>2007</td>\n",
       "      <td>130000</td>\n",
       "      <td>120000</td>\n",
       "      <td>Petrol</td>\n",
       "      <td>Individual</td>\n",
       "      <td>Manual</td>\n",
       "      <td>1</td>\n",
       "      <td>16.10</td>\n",
       "      <td>1298.0</td>\n",
       "      <td>88.20</td>\n",
       "      <td>5.0</td>\n",
       "    </tr>\n",
       "  </tbody>\n",
       "</table>\n",
       "</div>"
      ],
      "text/plain": [
       "      name  year  selling_price  km_driven    fuel seller_type transmission  \\\n",
       "0   Maruti  2014         450000     145500  Diesel  Individual       Manual   \n",
       "1    Skoda  2014         370000     120000  Diesel  Individual       Manual   \n",
       "2    Honda  2006         158000     140000  Petrol  Individual       Manual   \n",
       "3  Hyundai  2010         225000     127000  Diesel  Individual       Manual   \n",
       "4   Maruti  2007         130000     120000  Petrol  Individual       Manual   \n",
       "\n",
       "   owner  mileage  engine  max_power  seats  \n",
       "0      1    23.40  1248.0      74.00    5.0  \n",
       "1      2    21.14  1498.0     103.52    5.0  \n",
       "2      3    17.70  1497.0      78.00    5.0  \n",
       "3      1    23.00  1396.0      90.00    5.0  \n",
       "4      1    16.10  1298.0      88.20    5.0  "
      ]
     },
     "execution_count": 27,
     "metadata": {},
     "output_type": "execute_result"
    }
   ],
   "source": [
    "df.head()"
   ]
  },
  {
   "cell_type": "code",
   "execution_count": 28,
   "metadata": {},
   "outputs": [
    {
     "data": {
      "text/plain": [
       "<Axes: xlabel='x', ylabel='y'>"
      ]
     },
     "execution_count": 28,
     "metadata": {},
     "output_type": "execute_result"
    },
    {
     "data": {
      "image/png": "[encoded data removed]",
      "text/plain": [
       "<Figure size 1000x500 with 2 Axes>"
      ]
     },
     "metadata": {},
     "output_type": "display_data"
    }
   ],
   "source": [
    "import ppscore as pps \n",
    "# to consider the feature relation as the dependent variable is \"selling price\"\n",
    "\n",
    "# I use all features, no one removed\n",
    "dfcopy = df.copy()\n",
    "# call ppscore\n",
    "matrix_df = pps.matrix(dfcopy)[['x', 'y', 'ppscore']].pivot(columns='x', index='y', values='ppscore') \n",
    "# Selects only the 'x', 'y', and 'ppscore' columns from the PPS matrix.\n",
    "\n",
    "# plot\n",
    "plt.figure(figsize=(10,5))\n",
    "sns.heatmap(matrix_df, vmin=0, vmax=1, cmap=\"Blues\", linewidths=0.5, annot=True)\n",
    "\n",
    "# from the ppscore shows the features which has a low relative are fuel, owner, seats, seller_type, km_driven, transmission and year\n",
    "# so the features I will select  to create the model are engine, max_power, mileage, and name"
   ]
  },
  {
   "cell_type": "code",
   "execution_count": 29,
   "metadata": {},
   "outputs": [
    {
     "data": {
      "text/plain": [
       "array([20, 27, 10, 11, 29,  9, 26, 19, 28,  4,  7,  6, 14, 21, 22,  2, 30,\n",
       "        3, 23, 17, 13, 16, 18, 31,  5, 15,  8,  0,  1, 12, 24, 25])"
      ]
     },
     "execution_count": 29,
     "metadata": {},
     "output_type": "execute_result"
    }
   ],
   "source": [
    "# the feature name needs to create the label to be counted as\n",
    "from sklearn.preprocessing import LabelEncoder\n",
    "\n",
    "le = LabelEncoder()\n",
    "df[\"name\"] = le.fit_transform(df[\"name\"])\n",
    "df[\"name\"].unique()"
   ]
  },
  {
   "cell_type": "code",
   "execution_count": 30,
   "metadata": {},
   "outputs": [
    {
     "data": {
      "text/plain": [
       "array(['Maruti', 'Skoda', 'Honda', 'Hyundai', 'Toyota', 'Ford', 'Renault',\n",
       "       'Mahindra', 'Tata', 'Chevrolet', 'Fiat', 'Datsun', 'Jeep',\n",
       "       'Mercedes-Benz', 'Mitsubishi', 'Audi', 'Volkswagen', 'BMW',\n",
       "       'Nissan', 'Lexus', 'Jaguar', 'Land', 'MG', 'Volvo', 'Daewoo',\n",
       "       'Kia', 'Force', 'Ambassador', 'Ashok', 'Isuzu', 'Opel', 'Peugeot'],\n",
       "      dtype=object)"
      ]
     },
     "execution_count": 30,
     "metadata": {},
     "output_type": "execute_result"
    }
   ],
   "source": [
    "le.inverse_transform([20, 27, 10, 11, 29,  9, 26, 19, 28,  4,  7,  6, 14, 21, 22,  2, 30,\n",
    "        3, 23, 17, 13, 16, 18, 31,  5, 15,  8,  0,  1, 12, 24, 25])"
   ]
  },
  {
   "cell_type": "code",
   "execution_count": 31,
   "metadata": {},
   "outputs": [
    {
     "name": "stdout",
     "output_type": "stream",
     "text": [
      "<class 'pandas.core.frame.DataFrame'>\n",
      "Int64Index: 8028 entries, 0 to 8127\n",
      "Data columns (total 12 columns):\n",
      " #   Column         Non-Null Count  Dtype  \n",
      "---  ------         --------------  -----  \n",
      " 0   name           8028 non-null   float64\n",
      " 1   year           8028 non-null   int64  \n",
      " 2   selling_price  8028 non-null   int64  \n",
      " 3   km_driven      8028 non-null   int64  \n",
      " 4   fuel           8028 non-null   object \n",
      " 5   seller_type    8028 non-null   object \n",
      " 6   transmission   8028 non-null   object \n",
      " 7   owner          8028 non-null   int64  \n",
      " 8   mileage        7814 non-null   float64\n",
      " 9   engine         7814 non-null   float64\n",
      " 10  max_power      7820 non-null   float64\n",
      " 11  seats          7814 non-null   float64\n",
      "dtypes: float64(5), int64(4), object(3)\n",
      "memory usage: 815.3+ KB\n"
     ]
    }
   ],
   "source": [
    "df['name'] = df['name'].astype(float)\n",
    "df.info()"
   ]
  },
  {
   "cell_type": "code",
   "execution_count": 32,
   "metadata": {},
   "outputs": [
    {
     "data": {
      "text/plain": [
       "((8028, 4), (8028,))"
      ]
     },
     "execution_count": 32,
     "metadata": {},
     "output_type": "execute_result"
    }
   ],
   "source": [
    "# decide the feature : engine, max_power, mileage, and name\n",
    "X = df[['engine','max_power', 'mileage', 'name']]\n",
    "# decide the target\n",
    "y = np.log(df['selling_price'])\n",
    "#y = df['selling_price']\n",
    "\n",
    "X.shape, y.shape"
   ]
  },
  {
   "cell_type": "code",
   "execution_count": 33,
   "metadata": {},
   "outputs": [
    {
     "data": {
      "text/plain": [
       "((6422, 4), (6422,), (1606, 4), (1606,))"
      ]
     },
     "execution_count": 33,
     "metadata": {},
     "output_type": "execute_result"
    }
   ],
   "source": [
    "from sklearn.model_selection import train_test_split\n",
    "\n",
    "X_train, X_test, y_train, y_test = train_test_split(X, y, test_size=0.2, random_state=42) \n",
    "\n",
    "# x_train is 0.7 * all number of samples, here is 0.7 * 8028\n",
    "# y_train is 0.7 * all number of samples, here is 0.7 * 8028\n",
    "# x_test is 0.3 * all number of samples, here is 0.3 * 8028\n",
    "# y_test is 0.3 * all number of samples, here is 0.3 * 8028\n",
    "X_train.shape, y_train.shape, X_test.shape, y_test.shape"
   ]
  },
  {
   "cell_type": "code",
   "execution_count": 34,
   "metadata": {},
   "outputs": [
    {
     "data": {
      "text/plain": [
       "(engine       171\n",
       " max_power    165\n",
       " mileage      171\n",
       " name           0\n",
       " dtype: int64,\n",
       " engine       43\n",
       " max_power    43\n",
       " mileage      43\n",
       " name          0\n",
       " dtype: int64)"
      ]
     },
     "execution_count": 34,
     "metadata": {},
     "output_type": "execute_result"
    }
   ],
   "source": [
    "X_train.isna().sum(), X_test.isna().sum()"
   ]
  },
  {
   "cell_type": "code",
   "execution_count": 35,
   "metadata": {},
   "outputs": [
    {
     "data": {
      "text/plain": [
       "(1462.9146403890454, 1248.0)"
      ]
     },
     "execution_count": 35,
     "metadata": {},
     "output_type": "execute_result"
    },
    {
     "data": {
      "image/png": "[encoded data removed]",
      "text/plain": [
       "<Figure size 500x500 with 1 Axes>"
      ]
     },
     "metadata": {},
     "output_type": "display_data"
    }
   ],
   "source": [
    "### step of thinking when filling missing values\n",
    "\n",
    "#1.     look at the distribution\n",
    "sns.displot(data=df, x='engine')\n",
    "df['engine'].mean(), df['engine'].median() # fillind the missing values with median"
   ]
  },
  {
   "cell_type": "code",
   "execution_count": 36,
   "metadata": {},
   "outputs": [
    {
     "data": {
      "text/plain": [
       "(91.8197257033248, 82.4)"
      ]
     },
     "execution_count": 36,
     "metadata": {},
     "output_type": "execute_result"
    },
    {
     "data": {
      "image/png": "[encoded data removed]",
      "text/plain": [
       "<Figure size 500x500 with 1 Axes>"
      ]
     },
     "metadata": {},
     "output_type": "display_data"
    }
   ],
   "source": [
    "sns.displot(data=df, x='max_power')\n",
    "df['max_power'].mean(), df['max_power'].median() # fillind the missing values with median"
   ]
  },
  {
   "cell_type": "code",
   "execution_count": 37,
   "metadata": {},
   "outputs": [
    {
     "data": {
      "text/plain": [
       "(19.391961863322244, 19.3)"
      ]
     },
     "execution_count": 37,
     "metadata": {},
     "output_type": "execute_result"
    },
    {
     "data": {
      "image/png": "[encoded data removed]",
      "text/plain": [
       "<Figure size 500x500 with 1 Axes>"
      ]
     },
     "metadata": {},
     "output_type": "display_data"
    }
   ],
   "source": [
    "sns.displot(data=df, x='mileage')\n",
    "df['mileage'].mean(), df['mileage'].median() # fillind the missing values with mean"
   ]
  },
  {
   "cell_type": "code",
   "execution_count": 38,
   "metadata": {},
   "outputs": [
    {
     "data": {
      "text/plain": [
       "(engine       0\n",
       " max_power    0\n",
       " mileage      0\n",
       " name         0\n",
       " dtype: int64,\n",
       " engine       0\n",
       " max_power    0\n",
       " mileage      0\n",
       " name         0\n",
       " dtype: int64)"
      ]
     },
     "execution_count": 38,
     "metadata": {},
     "output_type": "execute_result"
    }
   ],
   "source": [
    "X_train['engine'].fillna(X_train['engine'].median(), inplace=True)\n",
    "X_train['max_power'].fillna(X_train['max_power'].median(), inplace=True)\n",
    "X_train['mileage'].fillna(X_train['mileage'].mean(), inplace=True)\n",
    "\n",
    "X_test['engine'].fillna(X_test['engine'].median(), inplace=True)\n",
    "X_test['max_power'].fillna(X_test['max_power'].median(), inplace=True)\n",
    "X_test['mileage'].fillna(X_train['mileage'].mean(), inplace=True)\n",
    "\n",
    "# Also Fill max_power column where value equals to 0 with the median\n",
    "zero_power_indices = X_train[X_train['max_power'] == 0].index\n",
    "X_train.loc[zero_power_indices] = X_train['max_power'].median()\n",
    "\n",
    "X_train.isna().sum(), X_test.isna().sum()"
   ]
  },
  {
   "cell_type": "code",
   "execution_count": 39,
   "metadata": {},
   "outputs": [
    {
     "data": {
      "text/plain": [
       "(0, 0)"
      ]
     },
     "execution_count": 39,
     "metadata": {},
     "output_type": "execute_result"
    }
   ],
   "source": [
    "y_train.isna().sum(), y_test.isna().sum()"
   ]
  },
  {
   "cell_type": "code",
   "execution_count": 40,
   "metadata": {},
   "outputs": [
    {
     "data": {
      "text/plain": [
       "((6422,), (6422,), (6422, 4))"
      ]
     },
     "execution_count": 40,
     "metadata": {},
     "output_type": "execute_result"
    }
   ],
   "source": [
    "mask = y_train.notna() # detect non-missing values in a Series or DataFrame\n",
    "y_train = y_train[mask]\n",
    "X_train = X_train[mask]\n",
    "\n",
    "mask.shape, y_train.shape, X_train.shape"
   ]
  },
  {
   "cell_type": "code",
   "execution_count": 41,
   "metadata": {},
   "outputs": [
    {
     "data": {
      "text/plain": [
       "((1606,), (1606,), (1606, 4))"
      ]
     },
     "execution_count": 41,
     "metadata": {},
     "output_type": "execute_result"
    }
   ],
   "source": [
    "mask = y_test.notna()\n",
    "y_test = y_test[mask]\n",
    "X_test = X_test[mask]\n",
    "\n",
    "mask.shape, y_test.shape, X_test.shape"
   ]
  },
  {
   "cell_type": "code",
   "execution_count": 42,
   "metadata": {},
   "outputs": [],
   "source": [
    "assert(X_test.shape[0] == y_test.shape[0])\n",
    "assert(X_train.shape[0] == y_train.shape[0])\n",
    "y_train = np.array(y_train)"
   ]
  },
  {
   "cell_type": "code",
   "execution_count": 43,
   "metadata": {},
   "outputs": [
    {
     "data": {
      "text/plain": [
       "((6422, 4),\n",
       " (1606, 4),\n",
       " (6422,),\n",
       " (1606,),\n",
       " numpy.ndarray,\n",
       " pandas.core.frame.DataFrame)"
      ]
     },
     "execution_count": 43,
     "metadata": {},
     "output_type": "execute_result"
    }
   ],
   "source": [
    "X_train.shape, X_test.shape, y_train.shape, y_test.shape, type(y_train), type(X_train)"
   ]
  },
  {
   "cell_type": "code",
   "execution_count": 44,
   "metadata": {},
   "outputs": [
    {
     "data": {
      "text/plain": [
       "<Experiment: artifact_location='/mlflow/artifacts/1', creation_time=1725111783165, experiment_id='1', last_update_time=1725111783165, lifecycle_stage='active', name='chaky-regularization-example', tags={}>"
      ]
     },
     "execution_count": 44,
     "metadata": {},
     "output_type": "execute_result"
    }
   ],
   "source": [
    "#experiment tracking\n",
    "import mlflow\n",
    "import os\n",
    "# This the dockerized method.\n",
    "# We build two docker containers, one for python/jupyter and another for mlflow.\n",
    "# The url `mlflow` is resolved into another container within the same composer.\n",
    "mlflow.set_tracking_uri(\"http://localhost:5000\")\n",
    "# In the dockerized way, the user who runs this code will be `root`.\n",
    "# The MLflow will also log the run user_id as `root`.\n",
    "# To change that, we need to set this environ[\"LOGNAME\"] to your name.\n",
    "os.environ[\"LOGNAME\"] = \"chaky\"\n",
    "# mlflow.create_experiment(name=\"chaky-diabetes-example\")  #create if you haven't create\n",
    "mlflow.set_experiment(experiment_name=\"chaky-regularization-example\")"
   ]
  },
  {
   "cell_type": "code",
   "execution_count": 45,
   "metadata": {},
   "outputs": [],
   "source": [
    "from sklearn.datasets import load_diabetes\n",
    "from sklearn.preprocessing import StandardScaler\n",
    "from sklearn.model_selection import train_test_split\n",
    "import numpy as np\n",
    "\n",
    "#Set up random seed, to ensure that results are reproducible\n",
    "random_seed = 42  \n",
    "np.random.seed(random_seed)  \n",
    "\n",
    "scaler = StandardScaler()\n",
    "\n",
    "X_train = scaler.fit_transform(X_train)\n",
    "X_test  = scaler.transform(X_test)\n",
    "\n",
    "# actually you can do like this too\n",
    "# X = np.insert(X, 0, 1, axis=1)\n",
    "intercept = np.ones((X_train.shape[0], 1))\n",
    "X_train   = np.concatenate((intercept, X_train), axis=1)\n",
    "intercept = np.ones((X_test.shape[0], 1))\n",
    "X_test    = np.concatenate((intercept, X_test), axis=1)"
   ]
  },
  {
   "cell_type": "code",
   "execution_count": 58,
   "metadata": {},
   "outputs": [
    {
     "data": {
      "text/plain": [
       "array([[ 1.        , -0.17725554, -0.04666467, -1.0059946 ,  1.30234332],\n",
       "       [ 1.        ,  0.24867191,  0.98626271,  0.05154414, -0.93568994],\n",
       "       [ 1.        , -0.91367216, -0.70180313,  0.24176525,  0.24915119],\n",
       "       ...,\n",
       "       [ 1.        , -1.31571582, -1.55896165, -0.75689554,  0.24915119],\n",
       "       [ 1.        ,  0.08148543,  0.19872692,  1.28118769, -1.06733896],\n",
       "       [ 1.        , -0.51759944, -0.28064269,  0.21685534,  0.24915119]])"
      ]
     },
     "execution_count": 58,
     "metadata": {},
     "output_type": "execute_result"
    }
   ],
   "source": [
    "X_test "
   ]
  },
  {
   "cell_type": "code",
   "execution_count": 46,
   "metadata": {},
   "outputs": [],
   "source": [
    "from sklearn.model_selection import KFold\n",
    "import matplotlib.pyplot as plt\n",
    "\n",
    "class LinearRegression(object):\n",
    "        \n",
    "    def __init__(self, regularization, lr=0.001, method='mini', initialization='zero', step=\"mom\", polynomial = False, \n",
    "                 num_epochs=500, batch_size=50, cv=KFold(n_splits=3), momentum=0.85):\n",
    "        \n",
    "        self.lr             = lr\n",
    "        self.num_epochs     = num_epochs\n",
    "        self.batch_size     = batch_size\n",
    "        self.method         = method\n",
    "        self.cv             = cv\n",
    "        self.regularization = regularization\n",
    "        self.initialization = initialization\n",
    "        self.step           = step\n",
    "        self.prev_step      = 0\n",
    "        self.momentum       = momentum\n",
    "        self.polynomial     = polynomial\n",
    "    \n",
    "    def mse(self, ytrue, ypred):\n",
    "        return ((ypred - ytrue) ** 2).sum() / ytrue.shape[0]\n",
    "    \n",
    "    def fit(self, X_train, y_train):\n",
    "            \n",
    "        #create a list of kfold scores\n",
    "        self.kfold_scores = list()\n",
    "        \n",
    "        #reset val loss\n",
    "        self.val_loss_old = np.infty\n",
    "        \n",
    "        # self.columns = X_train.columns\n",
    "        \n",
    "        if self.polynomial == True:\n",
    "            X_train._transform_features(X_train)\n",
    "        else:\n",
    "            # X_train = X_train.to_numpy()\n",
    "            pass\n",
    "\n",
    "        #kfold.split in the sklearn.....\n",
    "        #5 splits\n",
    "        for fold, (train_idx, val_idx) in enumerate(self.cv.split(X_train)):\n",
    "            X_cross_train = X_train[train_idx]\n",
    "            y_cross_train = y_train[train_idx] #KeyError\n",
    "            X_cross_val   = X_train[val_idx]\n",
    "            y_cross_val   = y_train[val_idx]\n",
    "            \n",
    "            #Add Initialization Choices\n",
    "            if self.initialization == 'xavier':\n",
    "                #Xavier Initialization\n",
    "                m = X_cross_train.shape[1]\n",
    "                #calculate range of weights\n",
    "                lower, upper = -1.0/np.sqrt(m), 1.0/np.sqrt(m)  \n",
    "                #randomly pick weights \n",
    "                xavier_weight = lower + np.random.rand(m) * (upper-lower)\n",
    "                #Create theta with size of features (10, ) using xavier init\n",
    "                self.theta = xavier_weight\n",
    "                # print(f\"Xavier Weight: {xavier_weight}\")\n",
    "            else: #Zeros Initialization\n",
    "                self.theta = np.zeros(X_cross_train.shape[1])\n",
    "            \n",
    "            #define X_cross_train as only a subset of the data\n",
    "            #how big is this subset?  => mini-batch size ==> 50\n",
    "            \n",
    "            #one epoch will exhaust the WHOLE training set\n",
    "            with mlflow.start_run(run_name=f\"Fold-{fold}\", nested=True):\n",
    "                params = {\"method\": self.method, \"xavier\":self.initialization, \"step\":self.step , \"lr\": self.lr, \"reg\": type(self).__name__}\n",
    "                mlflow.log_params(params=params)\n",
    "                \n",
    "                for epoch in range(self.num_epochs):\n",
    "                \n",
    "                    #with replacement or no replacement\n",
    "                    #with replacement means just randomize\n",
    "                    #with no replacement means 0:50, 51:100, 101:150, ......300:323\n",
    "                    #shuffle your index\n",
    "                    perm = np.random.permutation(X_cross_train.shape[0])\n",
    "                            \n",
    "                    X_cross_train = X_cross_train[perm]\n",
    "                    y_cross_train = y_cross_train[perm]\n",
    "                    \n",
    "                    if self.method == 'stochastic':\n",
    "                        for batch_idx in range(X_cross_train.shape[0]):\n",
    "                            X_method_train = X_cross_train[batch_idx].reshape(1, -1) #(11,) ==> (1, 11) ==> (m, n)\n",
    "                            y_method_train = y_cross_train[batch_idx] \n",
    "                            train_loss = self._train(X_method_train, y_method_train)\n",
    "                    elif self.method == 'mini-batch':\n",
    "                        for batch_idx in range(0, X_cross_train.shape[0], self.batch_size):\n",
    "                            #batch_idx = 0, 50, 100, 150\n",
    "                            X_method_train = X_cross_train[batch_idx:batch_idx+self.batch_size, :]\n",
    "                            y_method_train = y_cross_train[batch_idx:batch_idx+self.batch_size]\n",
    "                            train_loss = self._train(X_method_train, y_method_train)\n",
    "                    else:\n",
    "                        X_method_train = X_cross_train\n",
    "                        y_method_train = y_cross_train\n",
    "                        train_loss = self._train(X_method_train, y_method_train)\n",
    "\n",
    "                    mlflow.log_metric(key=\"train_loss\", value=train_loss, step=epoch)\n",
    "\n",
    "                    yhat_val = self.predict(X_cross_val)\n",
    "                    val_loss_new = self.mse(y_cross_val, yhat_val)\n",
    "                    mlflow.log_metric(key=\"val_loss\", value=val_loss_new, step=epoch)\n",
    "                    \n",
    "                    #early stopping\n",
    "                    if np.allclose(val_loss_new, self.val_loss_old):\n",
    "                        break\n",
    "                    self.val_loss_old = val_loss_new\n",
    "            \n",
    "                self.kfold_scores.append(val_loss_new)\n",
    "                print(f\"Fold {fold}: {val_loss_new}\")\n",
    "            \n",
    "                    \n",
    "    def _train(self, X, y):\n",
    "        yhat = self.predict(X)\n",
    "        m    = X.shape[0]        \n",
    "        grad = (1/m) * X.T @(yhat - y) + self.regularization.derivation(self.theta)\n",
    "        #Add Momentum Step\n",
    "        if self.step == \"momentum\":\n",
    "            step = self.lr * grad\n",
    "            #Calculate step : new-theta = old-theta + momentum * previous-step\n",
    "            self.theta = self.theta - step + self.momentum * self.prev_step\n",
    "            #Assign step as prev_step\n",
    "            self.prev_step = step\n",
    "        else:\n",
    "            self.theta = self.theta - self.lr * grad\n",
    "        return self.mse(y, yhat)\n",
    "    \n",
    "    def predict(self, X):\n",
    "        #Add check isPolynomial\n",
    "        if self.polynomial == True:\n",
    "            X = self._transform_features(X)\n",
    "        return X @ self.theta  #===>(m, n) @ (n, )\n",
    "    \n",
    "    def _coef(self):\n",
    "        return self.theta[1:]  #remind that theta is (w0, w1, w2, w3, w4.....wn)\n",
    "                               #w0 is the bias or the intercept\n",
    "                               #w1....wn are the weights / coefficients / theta\n",
    "    def _bias(self):\n",
    "        return self.theta[0]\n",
    "    \n",
    "    def mse(self, ypred, ytrue):\n",
    "        return ((ypred - ytrue) ** 2).sum() / ytrue.shape[0]\n",
    "    \n",
    "    # Add r2_score function\n",
    "    def r2_score(self, ypred, ytrue):\n",
    "        residuals = ytrue - ypred\n",
    "        total_sum_of_squares = np.sum((ytrue - np.mean(ytrue)) ** 2)\n",
    "        residual_sum_of_squares = np.sum(residuals ** 2)\n",
    "        r2 = 1 - (residual_sum_of_squares / total_sum_of_squares)\n",
    "        return r2\n",
    "    \n",
    "    #Show Feature Importance\n",
    "    def plot_feature_importance(self, reg, feature_names, coefficients):\n",
    "        # Feature Importance Plotting\n",
    "        plt.figure(figsize=(10, 6))\n",
    "        plt.barh(feature_names, coefficients, color='skyblue')\n",
    "        plt.xlabel('Coefficient Value')\n",
    "        plt.ylabel('Feature')\n",
    "        plt.title(f'Feature Importance for {reg}')\n",
    "        "
   ]
  },
  {
   "cell_type": "code",
   "execution_count": 47,
   "metadata": {},
   "outputs": [],
   "source": [
    "class LassoPenalty:\n",
    "\n",
    "    def __init__(self, l):\n",
    "        self.l = l  # lambda value\n",
    "\n",
    "    def __call__(self, theta):  # __call__ allows us to call class as method\n",
    "        return self.l * np.sum(np.abs(theta))\n",
    "\n",
    "    def derivation(self, theta):\n",
    "        return self.l * np.sign(theta)\n",
    "\n",
    "\n",
    "class RidgePenalty:\n",
    "\n",
    "    def __init__(self, l):\n",
    "        self.l = l\n",
    "\n",
    "    def __call__(self, theta):  # __call__ allows us to call class as method\n",
    "        return self.l * np.sum(np.square(theta))\n",
    "\n",
    "    def derivation(self, theta):\n",
    "        return self.l * 2 * theta\n",
    "\n",
    "#Add new class for normal LinearRegression\n",
    "class LinearPenalty:\n",
    "\n",
    "    def __init__(self, l):\n",
    "        self.l = l  \n",
    "\n",
    "    def __call__(self, theta): \n",
    "        return self.l * np.sum(np.abs(theta))\n",
    "\n",
    "    def derivation(self, theta):\n",
    "        return self.l * np.sign(theta)\n",
    "\n",
    "\n",
    "# class ElasticPenalty:\n",
    "\n",
    "#     def __init__(self, l=0.1, l_ratio=0.5, initialization, step):\n",
    "#         self.l = l\n",
    "#         self.l_ratio = l_ratio\n",
    "#         self.initialization = initialization\n",
    "#         self.step = step\n",
    "\n",
    "#     def __call__(self, theta):  # __call__ allows us to call class as method\n",
    "#         l1_contribution = self.l_ratio * self.l * np.sum(np.abs(theta))\n",
    "#         l2_contribution = (1 - self.l_ratio) * self.l * \\\n",
    "#             0.5 * np.sum(np.square(theta))\n",
    "#         return (l1_contribution + l2_contribution)\n",
    "\n",
    "#     def derivation(self, theta):\n",
    "#         l1_derivation = self.l * self.l_ratio * np.sign(theta)\n",
    "#         l2_derivation = self.l * (1 - self.l_ratio) * theta\n",
    "#         return (l1_derivation + l2_derivation)\n",
    "\n",
    "\n",
    "\n",
    "class Lasso(LinearRegression):\n",
    "\n",
    "    def __init__(self, method, lr, l, initialization, step, polynomial):\n",
    "        self.regularization = LassoPenalty(l)\n",
    "        super().__init__(self.regularization, lr, method, initialization, step, polynomial)\n",
    "\n",
    "    def get_coefficients(self):\n",
    "        # Access the method from the parent class\n",
    "        return self._coef()\n",
    "\n",
    "\n",
    "class Ridge(LinearRegression):\n",
    "\n",
    "    def __init__(self, method, lr, l, initialization, step, polynomial):\n",
    "        self.regularization = RidgePenalty(l)\n",
    "        super().__init__(self.regularization, lr, method, initialization, step, polynomial)\n",
    "\n",
    "    def get_coefficients(self):\n",
    "        # Access the method from the parent class\n",
    "        return self._coef()\n",
    "\n",
    "    \n",
    "class Linear(LinearRegression):\n",
    "\n",
    "    def __init__(self, method, lr, l, initialization, step, polynomial):\n",
    "        self.regularization = LinearPenalty(l)\n",
    "        super().__init__(self.regularization, lr, method, initialization, step, polynomial)\n",
    "\n",
    "    def get_coefficients(self):\n",
    "        # Access the method from the parent class\n",
    "        return self._coef()\n",
    "    \n",
    "    \n",
    "class Polynomial(LinearRegression):\n",
    "\n",
    "    def __init__(self, method, lr, l, initialization, step, polynomial):\n",
    "        self.regularization = LinearPenalty(l)\n",
    "        super().__init__(self.regularization, lr, method, initialization, step, polynomial)\n",
    "\n",
    "    def get_coefficients(self):\n",
    "        # Access the method from the parent class\n",
    "        return self._coef()\n",
    "    \n",
    "# class ElasticNet(LinearRegression):\n",
    "\n",
    "#     def __init__(self, method, lr, l, l_ratio=0.5, initialization, step):\n",
    "#         self.regularization = ElasticPenalty(l, l_ratio)\n",
    "#         super().__init__(self.regularization, lr, method, initialization, step)\n",
    "\n",
    "#     def get_coefficients(self):\n",
    "#         # Access the method from the parent class\n",
    "#         return self._coef()"
   ]
  },
  {
   "cell_type": "code",
   "execution_count": 48,
   "metadata": {},
   "outputs": [],
   "source": [
    "#helper function for looping classnames\n",
    "import sys\n",
    "\n",
    "def str_to_class(classname):\n",
    "    return getattr(sys.modules[__name__], classname)"
   ]
  },
  {
   "cell_type": "code",
   "execution_count": null,
   "metadata": {},
   "outputs": [],
   "source": [
    "regs = [\"Ridge\", \"Lasso\", \"Linear\"] #Polynomial\n",
    "momentum = ['momentum', 'no']\n",
    "method = [\"stochastic\" ,\"mini-batch\" ,\"batch\"]\n",
    "xavier = [\"xavier\", \"zero\"]\n",
    "learning_rate = [0.01, 0.001, 0.0001]\n",
    "isPolynomial = [True, False]\n",
    "\n",
    "\n",
    "for reg in regs:\n",
    "    # mlflow.start_run(run_name=f\"reg-{reg}\", nested=True)\n",
    "    for lr in learning_rate:\n",
    "        mlflow.start_run(run_name=f\"lr-{lr}\", nested=True)\n",
    "        for poly in isPolynomial:\n",
    "            mlflow.start_run(run_name=f\"isPolynomial-{poly}\", nested=True)\n",
    "            for met in method:\n",
    "                mlflow.start_run(run_name=f\"method-{met}\", nested=True)\n",
    "                for mom in momentum:\n",
    "                    mlflow.start_run(run_name=f\"step-{mom}\", nested=True)\n",
    "                    for xv in xavier:\n",
    "                        params = {\"method\": met, \"lr\": lr, \"l\": 0.1, \"initialization\": xv, \"step\": mom, \"polynomial\": isPolynomial}\n",
    "                        \n",
    "                        \n",
    "                        mlflow.start_run(run_name=f\"xavier-{xv}\", nested=True)\n",
    "                        # params = {\"method\": met, \"lr\": lr, \"l\": 0.1, \"initialization\": xv, \"step\":mom}\n",
    "                        mlflow.start_run(run_name=f\"method-{params['method']}-poly-{poly}-lr-{params['lr']}-xavier-{params['initialization']}-step-{params['step']}-reg-{reg}\", nested=True)\n",
    "                        \n",
    "                        print(\"=\"*5, reg, \"=\"*5)\n",
    "                            \n",
    "                        # #######\n",
    "                        type_of_regression = str_to_class(reg)    #Ridge, Lasso, ElasticNet\n",
    "                        model = type_of_regression(**params)\n",
    "                        model.fit(X_train, y_train)\n",
    "                        yhat = model.predict(X_test)\n",
    "                        mse  = model.mse(yhat, y_test)\n",
    "                        #Added\n",
    "                        r2_score = model.r2_score(yhat, y_test)\n",
    "\n",
    "                        print(\"Test MSE: \", mse)\n",
    "                        mlflow.log_metric(key=\"test_mse\", value=mse)\n",
    "                        mlflow.log_metric(key=\"r2_score\", value=r2_score)\n",
    "\n",
    "                        signature = mlflow.models.infer_signature(X_train, model.predict(X_train))\n",
    "                        mlflow.sklearn.log_model(model, artifact_path='model', signature=signature)\n",
    "\n",
    "                        # #######\n",
    "                        #Plot Feature Importances\n",
    "                        coefficients = model.get_coefficients()\n",
    "                        feature_names = X_train.columns if hasattr(X_train, 'columns') else [f'{X.columns[i]}' for i in range(X_train.shape[1] -1)]\n",
    "                        print (f\"COEF: {coefficients}, {feature_names}\")\n",
    "                        \n",
    "                        model.plot_feature_importance(reg, feature_names, coefficients)\n",
    "                        mlflow.end_run()\n",
    "                        mlflow.end_run()\n",
    "                        \n",
    "                    mlflow.end_run()\n",
    "                mlflow.end_run()\n",
    "            mlflow.end_run()\n",
    "        mlflow.end_run()\n",
    "        "
   ]
  },
  {
   "cell_type": "code",
   "execution_count": 52,
   "metadata": {},
   "outputs": [
    {
     "name": "stdout",
     "output_type": "stream",
     "text": [
      "===== Linear =====\n",
      "Fold 0: 0.3440454807197071\n"
     ]
    },
    {
     "name": "stderr",
     "output_type": "stream",
     "text": [
      "2024/09/06 15:04:00 INFO mlflow.tracking._tracking_service.client: 🏃 View run Fold-0 at: http://localhost:5000/#/experiments/1/runs/72fdffc66bed4c62bea7cef19c616baa.\n",
      "2024/09/06 15:04:00 INFO mlflow.tracking._tracking_service.client: 🧪 View experiment at: http://localhost:5000/#/experiments/1.\n",
      "2024/09/06 15:06:52 INFO mlflow.tracking._tracking_service.client: 🏃 View run Fold-1 at: http://localhost:5000/#/experiments/1/runs/65d98205d9d94ab286c48e0128372aca.\n",
      "2024/09/06 15:06:52 INFO mlflow.tracking._tracking_service.client: 🧪 View experiment at: http://localhost:5000/#/experiments/1.\n"
     ]
    },
    {
     "name": "stdout",
     "output_type": "stream",
     "text": [
      "Fold 1: 0.3391810360918089\n"
     ]
    },
    {
     "name": "stderr",
     "output_type": "stream",
     "text": [
      "2024/09/06 15:10:00 INFO mlflow.tracking._tracking_service.client: 🏃 View run Fold-2 at: http://localhost:5000/#/experiments/1/runs/77d4380f71f9464bb9da073fafa70ea8.\n",
      "2024/09/06 15:10:00 INFO mlflow.tracking._tracking_service.client: 🧪 View experiment at: http://localhost:5000/#/experiments/1.\n"
     ]
    },
    {
     "name": "stdout",
     "output_type": "stream",
     "text": [
      "Fold 2: 0.3480767712029758\n",
      "Test MSE:  0.33064736723961097\n",
      "COEF: [ 0.06137336  0.50532707  0.09931178 -0.01347316], ['engine', 'max_power', 'mileage', 'name']\n",
      "Model saved as trained_model_v2.1.sav\n"
     ]
    },
    {
     "data": {
      "image/png": "[encoded data removed]",
      "text/plain": [
       "<Figure size 1000x600 with 1 Axes>"
      ]
     },
     "metadata": {},
     "output_type": "display_data"
    }
   ],
   "source": [
    "import pickle\n",
    "\n",
    "regs = ['Linear'] #Polynomial\n",
    "momentum = ['no']\n",
    "method = [\"stochastic\"]\n",
    "xavier = [\"zero\"]\n",
    "learning_rate = [0.01]\n",
    "isPolynomial = [True]\n",
    "\n",
    "\n",
    "for reg in regs:\n",
    "    for lr in learning_rate:\n",
    "        for poly in isPolynomial:\n",
    "            for met in method:\n",
    "                for mom in momentum:\n",
    "                    for xv in xavier:\n",
    "                        params = {\"method\": met, \"lr\": lr, \"l\": 0.1, \"initialization\": xv, \"step\": mom, \"polynomial\": isPolynomial}\n",
    "                        print(\"=\"*5, reg, \"=\"*5)\n",
    "                            \n",
    "                        # #######\n",
    "                        type_of_regression = str_to_class(reg)    #Ridge, Lasso, ElasticNet\n",
    "                        model = type_of_regression(**params)\n",
    "                        model.fit(X_train, y_train)\n",
    "                        yhat = model.predict(X_test)\n",
    "                        mse  = model.mse(yhat, y_test)\n",
    "                        #Added\n",
    "                        r2_score = model.r2_score(yhat, y_test)\n",
    "\n",
    "                        print(\"Test MSE: \", mse)\n",
    "\n",
    "                        signature = mlflow.models.infer_signature(X_train, model.predict(X_train))\n",
    "                        # #######\n",
    "                        #Plot Feature Importances\n",
    "                        coefficients = model.get_coefficients()\n",
    "                        feature_names = X_train.columns if hasattr(X_train, 'columns') else [f'{X.columns[i]}' for i in range(X_train.shape[1] -1)]\n",
    "                        print (f\"COEF: {coefficients}, {feature_names}\")\n",
    "                        \n",
    "                        model.plot_feature_importance(reg, feature_names, coefficients)\n",
    "                        \n",
    "\n",
    "# Save the model as a pickle file\n",
    "filename = 'trained_model_v2.1.sav'\n",
    "with open(filename, 'wb') as file:\n",
    "    pickle.dump(model, file)\n",
    "# filename = 'trained_model_v2.sav'\n",
    "# pickle.dump(grid, open(filename, 'wb'))\n",
    "\n",
    "print(f\"Model saved as {filename}\")\n",
    "                       \n",
    "        "
   ]
  },
  {
   "cell_type": "code",
   "execution_count": null,
   "metadata": {},
   "outputs": [],
   "source": []
  },
  {
   "cell_type": "code",
   "execution_count": 53,
   "metadata": {},
   "outputs": [
    {
     "data": {
      "text/plain": [
       "inputs: \n",
       "  [Tensor('float64', (-1, 5))]\n",
       "outputs: \n",
       "  [Tensor('float64', (-1,))]\n",
       "params: \n",
       "  None"
      ]
     },
     "execution_count": 53,
     "metadata": {},
     "output_type": "execute_result"
    }
   ],
   "source": [
    "signature"
   ]
  },
  {
   "cell_type": "code",
   "execution_count": 54,
   "metadata": {},
   "outputs": [
    {
     "data": {
      "text/plain": [
       "__main__.Linear"
      ]
     },
     "execution_count": 54,
     "metadata": {},
     "output_type": "execute_result"
    }
   ],
   "source": [
    "#step 2: load your model\n",
    "loaded_model = pickle.load(open(filename, 'rb'))\n",
    "type(loaded_model)\n",
    "#step 3: predict your model\n",
    "# sample = df[['engine', 'max_power', 'mileage', 'name']].loc[42]\n",
    "# sample"
   ]
  },
  {
   "cell_type": "code",
   "execution_count": 60,
   "metadata": {},
   "outputs": [
    {
     "data": {
      "text/plain": [
       "array([61427.49502276])"
      ]
     },
     "execution_count": 60,
     "metadata": {},
     "output_type": "execute_result"
    }
   ],
   "source": [
    "sample_np = np.array([[1, 1000000.0, 78.00, 23.00, 28.0]])\n",
    "answer = loaded_model.predict(sample_np)\n",
    "answer = answer\n",
    "\n",
    "answer"
   ]
  }
 ],
 "metadata": {
  "kernelspec": {
   "display_name": "base",
   "language": "python",
   "name": "python3"
  },
  "language_info": {
   "codemirror_mode": {
    "name": "ipython",
    "version": 3
   },
   "file_extension": ".py",
   "mimetype": "text/x-python",
   "name": "python",
   "nbconvert_exporter": "python",
   "pygments_lexer": "ipython3",
   "version": "3.11.9"
  }
 },
 "nbformat": 4,
 "nbformat_minor": 2
}
